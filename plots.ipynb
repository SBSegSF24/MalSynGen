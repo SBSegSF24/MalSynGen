{
 "cells": [
  {
   "cell_type": "code",
   "execution_count": 68,
   "id": "60b3f4e5-0a6e-4237-b17e-9dd2004412d9",
   "metadata": {},
   "outputs": [
    {
     "data": {
      "text/plain": [
       "'\\nScript responsável pela criação das figuras de plot\\n\\n'"
      ]
     },
     "execution_count": 68,
     "metadata": {},
     "output_type": "execute_result"
    }
   ],
   "source": [
    "\"\"\"\n",
    "Script responsável pela criação das figuras de plot\n",
    "\n",
    "\"\"\"\n"
   ]
  },
  {
   "cell_type": "code",
   "execution_count": 69,
   "id": "97a723cd-2c75-46f0-85d3-8c7410158739",
   "metadata": {},
   "outputs": [],
   "source": [
    "import seaborn as sns\n",
    "import matplotlib.pyplot as plt\n",
    "import pandas as pd"
   ]
  },
  {
   "cell_type": "code",
   "execution_count": 70,
   "id": "93b9c078-f232-4e2c-a3ae-f094a6c0695d",
   "metadata": {},
   "outputs": [],
   "source": [
    "plot_1 = {\n",
    "    \"Datasets\": [\"Kronodroid E\", \"Kronodroid R\"],\n",
    "    \"Acurácia TS-Ar\": [0.887, 0.910],\n",
    "    \"Acurácia TR-As\": [0.884, 0.914],\n",
    "    \"Precisão TS-Ar\": [0.862, 0.888],\n",
    "    \"Precisão TR-As\": [0.942, 0.960],\n",
    "}\n",
    "\n",
    "plot_2 = {\n",
    "    \"Datasets\": [\"Kronodroid E\", \"Kronodroid R\"],\n",
    "    \"F1 TS-Ar\": [0.890, 0.912],\n",
    "    \"F1 TR-As\": [0.876, 0.909],\n",
    "    \"Recall TS-Ar\": [0.921, 0.938],\n",
    "    \"Recall TR-As\": [0.819, 0.864]\n",
    "}\n",
    "\n",
    "plot_3 = {\n",
    "    \"Datasets\": [\"Kronodroid E\", \"Kronodroid R\"],\n",
    "    \"Acurácia TS-Ar\": [0.887, 0.910],\n",
    "    \"Acurácia TR-As\": [0.884, 0.914],\n",
    "    \"Precisão TS-Ar\": [0.862, 0.888],\n",
    "    \"Precisão TR-As\": [0.942, 0.960],\n",
    "    \"F1 TR-AR\": [0.890, 0.912],\n",
    "    \"F1 TS-As\": [0.876, 0.909],\n",
    "    \"Recall TR-AR\": [0.921, 0.938],\n",
    "    \"Recall TR-As\": [0.819, 0.864]\n",
    "}"
   ]
  },
  {
   "cell_type": "code",
   "execution_count": 71,
   "id": "06a90d5d-9113-43a0-9032-c31ee32561f1",
   "metadata": {},
   "outputs": [],
   "source": [
    "def plot_and_save_as_pdf(data, plot_name='plots', figsize=(12, 6)):\n",
    "    \"\"\"\n",
    "    Função de plot e salavemnto em figuras\n",
    "    \n",
    "    Parâmetros:\n",
    "    - data: dados no formato csv\n",
    "    - plot_name: nome do plot\n",
    "    - figsize: tamanho da figura\n",
    "    \n",
    "    \"\"\"\n",
    "    \n",
    "    # Create a DataFrame\n",
    "    df = pd.DataFrame(data)\n",
    "\n",
    "    # Melt the DataFrame\n",
    "    df_melted = df.melt(id_vars=\"Datasets\", var_name=\"Métrica\", value_name=\"Valor\")\n",
    "\n",
    "    # Plotting\n",
    "    plt.figure(figsize=figsize)\n",
    "    ax = sns.barplot(x=\"Datasets\", y=\"Valor\", hue=\"Métrica\", data=df_melted, palette='Blues')\n",
    "\n",
    "    # Set y-axis limit\n",
    "    ax.set_ylim(0, 1)\n",
    "\n",
    "    # Rotate x-axis labels to avoid overlap\n",
    "   \n",
    "\n",
    "    # Annotate bars with values inside the bar, on top\n",
    "\n",
    "\n",
    "    for p in ax.patches:\n",
    "        height = p.get_height()\n",
    "        ax.annotate(format(height, '.3f'),\n",
    "                    (p.get_x() + p.get_width() / 2., height),\n",
    "                    ha='center', va='center', \n",
    "                    xytext=(0, -12), \n",
    "                    textcoords='offset points',\n",
    "                    color='white', weight='bold')\n",
    "\n",
    "    # Handle legend\n",
    "    handles, labels = ax.get_legend_handles_labels()\n",
    "    unique_labels = []\n",
    "    unique_handles = []\n",
    "    for handle, label in zip(handles, labels):\n",
    "        if label not in unique_labels:\n",
    "            unique_labels.append(label)\n",
    "            unique_handles.append(handle)\n",
    "    ax.legend(unique_handles, unique_labels, title=\"Métrica\", bbox_to_anchor=(1.05, 1), loc='upper left')\n",
    "\n",
    "    plt.tight_layout()\n",
    "    \n",
    "    # Save plot as PDF\n",
    "    plt.savefig(f\"{plot_name}.pdf\", format=\"pdf\", dpi=96)\n",
    "    plt.savefig(f\"{plot_name}_2.pdf\", format=\"pdf\")\n",
    "    # Show plot\n",
    "    plt.show()"
   ]
  },
  {
   "cell_type": "code",
   "execution_count": 72,
   "id": "e4e0eb03-8e8e-41d4-8b43-342d0a252268",
   "metadata": {},
   "outputs": [
    {
     "name": "stdout",
     "output_type": "stream",
     "text": [
      "Rectangle(xy=(-0.4, 0), width=0.2, height=0.887, angle=0)\n",
      "Rectangle(xy=(0.6, 0), width=0.2, height=0.91, angle=0)\n",
      "Rectangle(xy=(-0.2, 0), width=0.2, height=0.884, angle=0)\n",
      "Rectangle(xy=(0.8, 0), width=0.2, height=0.914, angle=0)\n",
      "Rectangle(xy=(-2.77556e-17, 0), width=0.2, height=0.862, angle=0)\n",
      "Rectangle(xy=(1, 0), width=0.2, height=0.888, angle=0)\n",
      "Rectangle(xy=(0.2, 0), width=0.2, height=0.942, angle=0)\n",
      "Rectangle(xy=(1.2, 0), width=0.2, height=0.96, angle=0)\n",
      "Rectangle(xy=(0, 0), width=0, height=0, angle=0)\n",
      "Rectangle(xy=(0, 0), width=0, height=0, angle=0)\n",
      "Rectangle(xy=(0, 0), width=0, height=0, angle=0)\n",
      "Rectangle(xy=(0, 0), width=0, height=0, angle=0)\n"
     ]
    },
    {
     "data": {
      "image/png": "[encoded data removed]",
      "text/plain": [
       "<Figure size 800x250 with 1 Axes>"
      ]
     },
     "metadata": {},
     "output_type": "display_data"
    }
   ],
   "source": [
    "# Call the function to create and save the plot\n",
    "plot_and_save_as_pdf(data=plot_1, plot_name='plot_2-v2', figsize=(8, 2.5))"
   ]
  },
  {
   "cell_type": "code",
   "execution_count": null,
   "id": "666a8421-40bc-4ee7-8f1c-60f9165b0af1",
   "metadata": {},
   "outputs": [],
   "source": []
  },
  {
   "cell_type": "code",
   "execution_count": null,
   "id": "9da59322-bf88-4b6b-9827-92d5cac0b41c",
   "metadata": {},
   "outputs": [],
   "source": []
  }
 ],
 "metadata": {
  "kernelspec": {
   "display_name": "Python 3 (ipykernel)",
   "language": "python",
   "name": "python3"
  },
  "language_info": {
   "codemirror_mode": {
    "name": "ipython",
    "version": 3
   },
   "file_extension": ".py",
   "mimetype": "text/x-python",
   "name": "python",
   "nbconvert_exporter": "python",
   "pygments_lexer": "ipython3",
   "version": "3.12.3"
  }
 },
 "nbformat": 4,
 "nbformat_minor": 5
}
