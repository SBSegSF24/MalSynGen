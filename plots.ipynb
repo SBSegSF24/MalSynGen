{
 "cells": [
  {
   "cell_type": "code",
   "execution_count": 27,
   "id": "60b3f4e5-0a6e-4237-b17e-9dd2004412d9",
   "metadata": {},
   "outputs": [
    {
     "data": {
      "text/plain": [
       "'\\nScript responsável pela criação das figuras de plot\\n\\n'"
      ]
     },
     "execution_count": 27,
     "metadata": {},
     "output_type": "execute_result"
    }
   ],
   "source": [
    "\"\"\"\n",
    "Script responsável pela criação das figuras de plot\n",
    "\n",
    "\"\"\"\n"
   ]
  },
  {
   "cell_type": "code",
   "execution_count": 28,
   "id": "97a723cd-2c75-46f0-85d3-8c7410158739",
   "metadata": {},
   "outputs": [],
   "source": [
    "import seaborn as sns\n",
    "import matplotlib.pyplot as plt\n",
    "import pandas as pd\n",
    "import argparse\n",
    "import os"
   ]
  },
  {
   "cell_type": "code",
   "execution_count": 29,
   "id": "93b9c078-f232-4e2c-a3ae-f094a6c0695d",
   "metadata": {},
   "outputs": [],
   "source": [
    "plot_1 = {\n",
    "    \"Datasets\": [\"Kronodroid E\", \"Kronodroid R\"],\n",
    "    \"Acurácia TS-Ar\": [],\n",
    "    \"Acurácia TR-As\": [],\n",
    "    \"Precisão TS-Ar\": [],\n",
    "    \"Precisão TR-As\": [],\n",
    "}\n",
    "\n",
    "plot_2 = {\n",
    "    \"Datasets\": [\"Kronodroid E\", \"Kronodroid R\"],\n",
    "    \"Pontuação F1 TS-Ar\": [],\n",
    "    \"Pontuação F1 TR-As\": [],\n",
    "    \"Recall TS-Ar\": [],\n",
    "    \"Recall TR-As\": []\n",
    "}\n",
    "\n",
    "plot_3 = {\n",
    "    \"Datasets\": [\"KronoDroid E\", \"KronoDroid R\"],\n",
    "    \"Acurácia TS-Ar\": [],\n",
    "    \"Acurácia TR-As\": [],\n",
    "    \"Precisão TS-Ar\": [],\n",
    "    \"Precisão TR-As\": [],\n",
    "    \"Pontuação F1 TR-As\": [],\n",
    "    \"Pontuação F1 TS-Ar\": [],\n",
    "    \"Recall TS-Ar\": [],\n",
    "    \"Recall TR-As\": []\n",
    "}"
   ]
  },
  {
   "cell_type": "code",
   "execution_count": 30,
   "id": "06a90d5d-9113-43a0-9032-c31ee32561f1",
   "metadata": {},
   "outputs": [],
   "source": [
    "def plot_and_save_as_pdf(data, plot_name='plots',figsize=(12, 6),start_color=0):\n",
    "    \"\"\"\n",
    "    Função de plot e salavemnto em figuras\n",
    "    \n",
    "    Parâmetros:\n",
    "    - data: dados no formato csv\n",
    "    - plot_name: nome do plot\n",
    "    - figsize: tamanho da figura\n",
    "    - start_color: cor inicial da figura\n",
    "    \n",
    "    \"\"\"\n",
    "    palette_color = sns.color_palette(\"Paired\")\n",
    "    palette_color = palette_color[start_color:] + palette_color[:start_color]\n",
    "    # Create a DataFrame\n",
    "    df = pd.DataFrame(data)\n",
    "    print()\n",
    "    # Melt the DataFrame\n",
    "    df_melted = df.melt(id_vars=\"Datasets\", var_name=\"Métrica\", value_name=\"Valor\")\n",
    "   \n",
    "    # Plotting\n",
    "    plt.figure(figsize=figsize)\n",
    "    ax = sns.barplot(x=\"Datasets\", y=\"Valor\", hue=\"Métrica\", data=df_melted, palette=palette_color)\n",
    "\n",
    "    # Set y-axis limit\n",
    "    ax.set_ylim(0.0, 1)\n",
    "\n",
    "    # Rotate x-axis labels to avoid overlap\n",
    "   \n",
    "\n",
    "    # Annotate bars with values inside the bar, on top\n",
    "\n",
    "\n",
    "    for p in ax.patches:\n",
    "        height = p.get_height()\n",
    "        \n",
    "        if(height>0):\n",
    "         ax.annotate(format(height, '.2f'),\n",
    "                    (p.get_x() + p.get_width() / 2., height),\n",
    "                    ha='center', va='center', \n",
    "                    xytext=(0, -9), \n",
    "                    textcoords='offset points',\n",
    "                    color='black',rotation=90)\n",
    "\n",
    "\n",
    "    # Handle legend\n",
    "    handles, labels = ax.get_legend_handles_labels()\n",
    "    unique_labels = []\n",
    "    unique_handles = []\n",
    "    for handle, label in zip(handles, labels):\n",
    "        if label not in unique_labels:\n",
    "            unique_labels.append(label)\n",
    "            unique_handles.append(handle)\n",
    "    ax.legend(unique_handles, unique_labels, title=\"Métrica\", bbox_to_anchor=(1.05, 1), loc='upper left')\n",
    "      \n",
    "\n",
    "    plt.tight_layout()\n",
    "\n",
    "    # Save plot as PDF\n",
    "    plt.savefig(f\"{plot_name}.pdf\", format=\"pdf\", dpi=96)\n",
    "    plt.savefig(f\"{plot_name}_2.pdf\", format=\"pdf\")\n",
    "    # Show plot\n",
    "    plt.show()"
   ]
  },
  {
   "cell_type": "code",
   "execution_count": 31,
   "id": "626f4ccc-8215-48dd-b349-7ecace9821ad",
   "metadata": {},
   "outputs": [],
   "source": [
    "def reading_function(files):\n",
    " dict_params={'TSTR Mean Accuracy:':[],'TS_Ar Mean Accuracy:':[],'TSTR Mean Precision:':[],'TS_Ar Mean Precision:':[],'TSTR Mean Recall:':[],'TS_Ar Mean Recall:':[],'TSTR Mean F1 Score:':[],'TS_Ar Mean F1 Score:':[],'TRTS Mean Accuracy:':[],\"TR_As Mean Accuracy:\":[],'TRTS Mean Precision:':[],'TR_As Mean Precision:':[],'TRTS Mean Recall:':[],'TR_As Mean Recall:':[],'TRTS Mean F1 Score:':[],'TR_As Mean F1 Score:':[]}\n",
    " strings_to_search=['Overall TSTR Results: RandomForest','Overall TRTS Results: Classifier RandomForest','Overall TR_As Results: Classifier RandomForest','Overall TS_Ar Results: Classifier','Overall TS_Ar Results: RandomForest']\n",
    " params_to_seach=['TSTR Mean Accuracy:','TS_Ar Mean Accuracy:','TSTR Mean Precision:','TS_Ar Mean Precision:','TSTR Mean Recall:','TS_Ar Mean Recall:','TSTR Mean F1 Score:','TS_Ar Mean F1 Score:','TRTS Mean Accuracy:',\"TR_As Mean Accuracy:\",'TRTS Mean Precision:','TR_As Mean Precision:','TRTS Mean Recall:','TR_As Mean Recall:','TRTS Mean F1 Score:','TR_As Mean F1 Score:']\n",
    " next_lines=5\n",
    " for file_name in files:\n",
    "    with open(file_name, 'r') as read_obj:\n",
    "        # Read all lines in the file one by one\n",
    "        for line in read_obj:\n",
    "            # For each line, check if it contains the string\n",
    "            for word in strings_to_search:\n",
    "                if word in line:\n",
    "                   next_lines=0\n",
    "            if next_lines<4:\n",
    "               for param in params_to_seach: \n",
    "                    if param in line:\n",
    "                        print(param)\n",
    "                        dict_params[param].append(( float(line.split(\":\")[3])))\n",
    "                        next_lines=next_lines+1\n",
    "    # Return list of tuples containing line numbers and lines where string is found\n",
    " return dict_params"
   ]
  },
  {
   "cell_type": "code",
   "execution_count": 32,
   "id": "e4e0eb03-8e8e-41d4-8b43-342d0a252268",
   "metadata": {},
   "outputs": [
    {
     "name": "stdout",
     "output_type": "stream",
     "text": [
      "TRTS Mean Accuracy:\n",
      "TRTS Mean Precision:\n",
      "TRTS Mean Recall:\n",
      "TRTS Mean F1 Score:\n",
      "TSTR Mean Accuracy:\n",
      "TSTR Mean Precision:\n",
      "TSTR Mean Recall:\n",
      "TSTR Mean F1 Score:\n",
      "TRTS Mean Accuracy:\n",
      "TRTS Mean Precision:\n",
      "TRTS Mean Recall:\n",
      "TRTS Mean F1 Score:\n",
      "TSTR Mean Accuracy:\n",
      "TSTR Mean Precision:\n",
      "TSTR Mean Recall:\n",
      "TSTR Mean F1 Score:\n",
      "{'Datasets': ['KronoDroid E', 'KronoDroid R'], 'Acurácia TS-Ar': [0.857, 0.8886000000000001], 'Acurácia TR-As': [0.9237, 0.8919499999999999], 'Precisão TS-Ar': [0.8021693988569659, 0.8649307753816231], 'Precisão TR-As': [0.9632679848028756, 0.9480145049858544], 'Pontuação F1 TR-As': [0.9202644642022036, 0.8847262750157723], 'Pontuação F1 TS-Ar': [0.870408833214837, 0.8922097789854678], 'Recall TS-Ar': [0.9530999999999998, 0.9215], 'Recall TR-As': [0.8811, 0.8293999999999999]}\n",
      "\n"
     ]
    },
    {
     "name": "stderr",
     "output_type": "stream",
     "text": [
      "/tmp/ipykernel_21733/1648225484.py:22: UserWarning: The palette list has more values (12) than needed (8), which may not be intended.\n",
      "  ax = sns.barplot(x=\"Datasets\", y=\"Valor\", hue=\"Métrica\", data=df_melted, palette=palette_color)\n"
     ]
    },
    {
     "data": {
      "image/png": "[encoded data removed]",
      "text/plain": [
       "<Figure size 800x250 with 1 Axes>"
      ]
     },
     "metadata": {},
     "output_type": "display_data"
    }
   ],
   "source": [
    "# Call the function to create and save the plot\n",
    "if(os.path.exists('campanhas_SF24/')):\n",
    " files=['campanhas_SF24/kronodroid_real_device-balanced.csv/logging.log','campanhas_SF24/kronodroid_emulador-balanced.csv/logging.log']\n",
    "else: \n",
    "    \n",
    " print('ye')\n",
    " files=['Campanhas_SF24/kronodroid_real_device-balanced.csv/logging.log','Campanhas_SF24/kronodroid_emulador-balanced.csv/logging.log']\n",
    "dict_params=reading_function(files)\n",
    "if dict_params['TSTR Mean Accuracy:']:\n",
    "    plot_1['Acurácia TS-Ar']=dict_params['TSTR Mean Accuracy:']\n",
    "    plot_3['Acurácia TS-Ar']=dict_params['TSTR Mean Accuracy:']\n",
    "    plot_1[\"Acurácia TR-As\"]=dict_params['TRTS Mean Accuracy:']\n",
    "    plot_3[\"Acurácia TR-As\"]=dict_params['TRTS Mean Accuracy:']\n",
    "    plot_1[\"Precisão TS-Ar\"]=dict_params['TSTR Mean Precision:']\n",
    "    plot_3[\"Precisão TS-Ar\"]=dict_params['TSTR Mean Precision:']\n",
    "    plot_1[\"Precisão TR-As\"]=dict_params['TRTS Mean Precision:']\n",
    "    plot_3[\"Precisão TR-As\"]=dict_params['TRTS Mean Precision:']\n",
    "    plot_2[\"Pontuação F1 TS-Ar\"]=dict_params['TSTR Mean F1 Score:']\n",
    "    plot_3[\"Pontuação F1 TS-Ar\"]=dict_params['TSTR Mean F1 Score:']\n",
    "    plot_2[\"Pontuação F1 TR-As\"]=dict_params['TRTS Mean F1 Score:']\n",
    "    plot_3[\"Pontuação F1 TR-As\"]=dict_params['TRTS Mean F1 Score:']\n",
    "    plot_2[\"Recall TS-Ar\"]=dict_params['TSTR Mean Recall:']\n",
    "    plot_3[\"Recall TS-Ar\"]=dict_params['TSTR Mean Recall:']\n",
    "    plot_2[\"Recall TR-As\"]=dict_params['TRTS Mean Recall:']\n",
    "    plot_3[\"Recall TR-As\"]=dict_params['TRTS Mean Recall:']\n",
    "else: \n",
    "    plot_1['Acurácia TS-Ar']=dict_params['TS_Ar Mean Accuracy:']\n",
    "    plot_3['Acurácia TS-Ar']=dict_params['TS_Ar Mean Accuracy:']\n",
    "    plot_1[\"Acurácia TR-As\"]=dict_params[\"TR_As Mean Accuracy:\"]\n",
    "    plot_3[\"Acurácia TR-As\"]=dict_params[\"TR_As Mean Accuracy:\"]\n",
    "    plot_1[\"Precisão TS-Ar\"]=dict_params['TS_Ar Mean Precision:']\n",
    "    plot_3[\"Precisão TS-Ar\"]=dict_params['TS_Ar Mean Precision:']\n",
    "    plot_1[\"Precisão TR-As\"]=dict_params['TR_As Mean Precision:']\n",
    "    plot_3[\"Precisão TR-As\"]=dict_params['TR_As Mean Precision:']\n",
    "    plot_2[\"Pontuação F1 TS-Ar\"]=dict_params['TS_Ar Mean F1 Score:']\n",
    "    plot_3[\"Pontuação F1 TS-Ar\"]=dict_params['TS_Ar Mean F1 Score:']\n",
    "    plot_2[\"Pontuação F1 TR-As\"]=dict_params['TR_As Mean F1 Score:']\n",
    "    plot_3[\"Pontuação F1 TR-As\"]=dict_params['TR_As Mean F1 Score:']\n",
    "    plot_2[\"Recall TS-Ar\"]=dict_params['TS_Ar Mean Recall:']\n",
    "    plot_3[\"Recall TS-Ar\"]=dict_params['TS_Ar Mean Recall:']\n",
    "    plot_2[\"Recall TR-As\"]=dict_params['TR_As Mean F1 Score:']\n",
    "    plot_3[\"Recall TR-As\"]=dict_params['TR_As Mean F1 Score:']\n",
    "\n",
    "print(plot_3)\n",
    "plot_and_save_as_pdf(data=plot_3, plot_name='plot_3-v2', figsize=(8, 2.5), start_color=0)\n"
   ]
  },
  {
   "cell_type": "code",
   "execution_count": null,
   "id": "666a8421-40bc-4ee7-8f1c-60f9165b0af1",
   "metadata": {},
   "outputs": [],
   "source": []
  },
  {
   "cell_type": "code",
   "execution_count": null,
   "id": "9da59322-bf88-4b6b-9827-92d5cac0b41c",
   "metadata": {},
   "outputs": [],
   "source": []
  },
  {
   "cell_type": "code",
   "execution_count": null,
   "id": "c6a9b6c7-65c9-4b0e-8473-7773799690b5",
   "metadata": {},
   "outputs": [],
   "source": []
  }
 ],
 "metadata": {
  "kernelspec": {
   "display_name": "Python 3 (ipykernel)",
   "language": "python",
   "name": "python3"
  },
  "language_info": {
   "codemirror_mode": {
    "name": "ipython",
    "version": 3
   },
   "file_extension": ".py",
   "mimetype": "text/x-python",
   "name": "python",
   "nbconvert_exporter": "python",
   "pygments_lexer": "ipython3",
   "version": "3.12.3"
  }
 },
 "nbformat": 4,
 "nbformat_minor": 5
}
